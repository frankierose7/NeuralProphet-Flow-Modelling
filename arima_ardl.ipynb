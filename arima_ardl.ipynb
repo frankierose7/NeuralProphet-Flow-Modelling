{
 "cells": [
  {
   "cell_type": "code",
   "execution_count": null,
   "metadata": {},
   "outputs": [],
   "source": [
    "#%%\n",
    "## IMPORT MODULES\n",
    "import numpy as np\n",
    "import pandas as pd\n",
    "import matplotlib.pyplot as plt\n",
    "import seaborn as sns\n",
    "from statsmodels.tsa.arima.model import ARIMA\n",
    "from statsmodels.graphics.tsaplots import plot_acf, plot_pacf\n",
    "from statsmodels.graphics.tsaplots import plot_predict\n",
    "from statsmodels.tsa.api import ARDL\n",
    "from statsmodels.tsa.ardl import ardl_select_order\n",
    "from sklearn.metrics import r2_score, mean_squared_error\n",
    "import statsmodels as sm\n",
    "from labellines import labelLines\n",
    "import matplotx\n",
    "\n",
    "from model_functions import load_data\n"
   ]
  },
  {
   "cell_type": "code",
   "execution_count": null,
   "metadata": {},
   "outputs": [],
   "source": [
    "#%%\n",
    "## SET UP TRAINING AND TEST DATASETS\n",
    "\n",
    "df_full = load_data()\n",
    "\n",
    "df_full = df_full[['y', 'rf_mean', 'rf_8h']].rename(columns={'y':'flow'})\n",
    "# small dataset\n",
    "'''df_train = df_full.loc['2001'].copy()\n",
    "df_test = df_full.loc['2002-01': '2002-02'].copy()'''\n",
    "\n",
    "# large dataset\n",
    "df_train = df_full.loc['2001':'2014'].copy()\n",
    "#df_train = df_train[df_train['quality_min'] != 0] # remove missing data\n",
    "df_val = df_full.loc['2015': '2019'].copy()\n",
    "df_test = df_full.loc['2020': '2024'].copy()\n",
    "\n",
    "# remove missing data\n",
    "df_train = df_train.dropna()\n",
    "endog = df_train['flow']\n",
    "rf = df_train['rf_mean']\n",
    "rf_lag = df_train['rf_8h']\n"
   ]
  },
  {
   "cell_type": "code",
   "execution_count": null,
   "metadata": {},
   "outputs": [],
   "source": []
  },
  {
   "cell_type": "code",
   "execution_count": null,
   "metadata": {},
   "outputs": [],
   "source": []
  },
  {
   "cell_type": "code",
   "execution_count": null,
   "metadata": {},
   "outputs": [],
   "source": [
    "#%%\n",
    "#plot ACF and PACF\n",
    "series_diff = series.diff().dropna()\n",
    "plot_acf(series_diff); # prevents plotting twice\n",
    "plot_pacf(series_diff); # \n",
    "\n",
    "# best parameters based on acf/pacf: (3,0,6)\n"
   ]
  },
  {
   "cell_type": "code",
   "execution_count": null,
   "metadata": {},
   "outputs": [],
   "source": [
    "#%%\n",
    "## ARIMA MODEL\n",
    "\n",
    "def run_arima(p, q, d=0, exog=None):\n",
    "    model = ARIMA(endog, exog=exog, order=(p, d, q))\n",
    "    res = model.fit(method_kwargs={'maxiter':300})\n",
    "    return res\n"
   ]
  },
  {
   "cell_type": "code",
   "execution_count": null,
   "metadata": {},
   "outputs": [],
   "source": [
    "#%%\n",
    "# fit ARIMA model to data\n",
    "#### takes ~ 20 minutes ####\n",
    "res = run_arima(11,10, exog=rf_lag)\n",
    "print(res.aic)\n",
    "# optimum was (11,0,10), aic = 10196\n"
   ]
  },
  {
   "cell_type": "code",
   "execution_count": null,
   "metadata": {},
   "outputs": [],
   "source": [
    "#%%\n",
    "# generate forecast\n",
    "df_forecast = df_test\n",
    "steps=len(df_forecast)\n",
    "forecast = res.forecast(steps, exog=df_forecast[['rf_mean']])\n",
    "df_forecast['forecast'] = forecast.values # avoids index issues\n",
    "\n"
   ]
  },
  {
   "cell_type": "code",
   "execution_count": null,
   "metadata": {},
   "outputs": [],
   "source": [
    "#%%\n",
    "## calculate metrics\n",
    "\n",
    "# drop null values\n",
    "forecast_metrics = df_forecast.dropna(subset=['flow','forecast'])\n",
    "# retrieve true and predicted values for flow\n",
    "y = forecast_metrics['flow']\n",
    "y_pred = forecast_metrics['forecast']\n",
    "# mean squared error\n",
    "mse = mean_squared_error(y_pred, y)\n",
    "# Nash-Sutcliffe efficiency (= r^2)\n",
    "nse = r2_score(y_pred, y)\n",
    "print('Mean squared error: ', mse, '\\nNash-Sutcliffe Efficiency: ', nse)\n",
    "\n"
   ]
  },
  {
   "cell_type": "code",
   "execution_count": null,
   "metadata": {},
   "outputs": [],
   "source": [
    "#%%\n",
    "# ARDL MODEL\n",
    "# (autoregressive distributed lags)\n",
    "# automatically select best lags for model\n",
    "\n",
    "#### can take ~ 1 hour ####\n",
    "rf = pd.DataFrame(rf)\n",
    "sel_res = ardl_select_order(\n",
    "    endog, 75, rf, 75, ic=\"aic\", trend=\"c\",\n",
    "    causal=True, # exclude lag 0 for exog \n",
    "    glob=False # search through all 'submodels' (combinations of lags)\n",
    ")\n",
    "\n",
    "# for global search, time is of order 2^(maxlag+maxorder) for 1 exogenous variable\n",
    "\n",
    "print(sel_res.model.ar_lags)\n",
    "print(sel_res.model.dl_lags)\n",
    "'''\n",
    "for i, val in enumerate(sel_res.aic.head(10)):\n",
    "    print(f\"{i+1}: {val}\")\n",
    "'''\n",
    "\n",
    "# large dataset:\n",
    "# search up to (75, 75) gives (60, 74)\n",
    "# aic = 38975\n"
   ]
  },
  {
   "cell_type": "code",
   "execution_count": null,
   "metadata": {},
   "outputs": [],
   "source": [
    "#%%\n",
    "# fit ARDL model with specified parameters\n",
    "rf = pd.DataFrame(rf)\n",
    "res = ARDL(endog, 60, rf, 74).fit()\n",
    "res.summary()\n",
    "\n"
   ]
  },
  {
   "cell_type": "code",
   "execution_count": null,
   "metadata": {},
   "outputs": [],
   "source": [
    "#%%\n",
    "## generate forecast\n",
    "df_forecast = df_test\n",
    "steps=len(df_forecast)\n",
    "forecast = res.forecast(steps, exog=df_forecast[['rf_mean']])\n",
    "df_forecast['forecast'] = forecast.values # avoids index issues\n",
    "#df_forecast['forecast'].plot()\n",
    "#df_forecast['flow'].plot()\n"
   ]
  },
  {
   "cell_type": "code",
   "execution_count": null,
   "metadata": {},
   "outputs": [],
   "source": [
    "#%%\n",
    "## calculate metrics\n",
    "\n",
    "# drop null values\n",
    "forecast_metrics = df_forecast.dropna(subset=['flow','forecast'])\n",
    "# retreive true and predicted values for flow\n",
    "y = forecast_metrics['flow']\n",
    "y_pred = forecast_metrics['forecast']\n",
    "# mean squared error\n",
    "mse = mean_squared_error(y_pred, y)\n",
    "# Nash-Sutcliffe efficiency (= r^2)\n",
    "nse = r2_score(y_pred, y)\n",
    "\n",
    "print('Mean squared error: ', mse, '\\nNash-Sutcliffe Efficiency: ', nse)\n"
   ]
  },
  {
   "cell_type": "code",
   "execution_count": null,
   "metadata": {},
   "outputs": [],
   "source": [
    "#%%\n",
    "\n",
    "# plot model predictions\n",
    "df_forecast = df_forecast.loc['2020-12-25':'2024-12-27']\n",
    "fig, ax1 = plt.subplots(figsize=(12, 6))\n",
    "ax1.plot(df_forecast.index, df_forecast['flow'], 'blue', \n",
    "         label='Observed')\n",
    "ax1.plot(df_forecast.index, df_forecast['forecast'], 'orange', \n",
    "         label='Predicted')\n",
    "'''ax1.fill_between(df_test.index, \n",
    "                 conf_int['lower'], \n",
    "                 conf_int['upper'], \n",
    "                 color='gray', alpha=0.3, \n",
    "                 label='66% confidence interval')'''\n",
    "\n",
    "# matplotx.line_labels()\n",
    "plt.legend(loc='best',\n",
    "           bbox_to_anchor=(0.95,0.85),\n",
    "            frameon=False,\n",
    "           #labelcolor='linecolor',\n",
    "           #handlelength=0\n",
    "           )\n",
    "plt.gca().set_ylim(bottom=0)\n",
    "\n",
    "# add rainfall \n",
    "# Creating a secondary y-axis for the upside-down histogram\n",
    "ax2 = ax1.twinx()\n",
    "# Plot the histogram\n",
    "df_plot_day = df_forecast.resample('3h').sum()\n",
    "ax2.bar(df_plot_day.index,\n",
    "            df_plot_day['rf_mean'],\n",
    "            width=(1/8),\n",
    "            #align='center'\n",
    "            )\n",
    "\n",
    "# Invert the y-axis to make the histogram upside-down\n",
    "#ax2.invert_yaxis()\n",
    "# Optional: Adjust the y-axis limit to match the main plot for a consistent look\n",
    "#ax_top = ax1.get_ylim()[1]\n",
    "ax2.set_ylim(ax1.get_ylim()[::-1])\n",
    "\n",
    "#plt.xlim(df_test_day.index[0], df_test_day.index[1])\n",
    "\n",
    "#ax1.set_xlabel('Date')\n",
    "ax1.set_ylabel('Flow (m$^3$/s)')\n",
    "ax2.set_ylabel('Rainfall (mm)', color='b')\n",
    "ax2.tick_params(axis='y', labelcolor='b')\n",
    "ax1.spines[:].set_visible(False)\n",
    "ax2.spines[:].set_visible(False)\n",
    "\n",
    "\n"
   ]
  }
 ],
 "metadata": {
  "language_info": {
   "codemirror_mode": {
    "name": "ipython",
    "version": 3
   },
   "file_extension": ".py",
   "mimetype": "text/x-python",
   "name": "python",
   "nbconvert_exporter": "python",
   "pygments_lexer": "ipython3",
   "version": 3
  }
 },
 "nbformat": 4,
 "nbformat_minor": 2
}
